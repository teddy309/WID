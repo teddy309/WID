{
 "cells": [
  {
   "cell_type": "markdown",
   "metadata": {
    "colab_type": "text",
    "id": "pFsZnNR25ixh"
   },
   "source": [
    "# FIT5202 Data processing for big data\n",
    "\n",
    "## Activity: Machine Learning with Spark (Logistic Regression)\n",
    "\n",
    "Last week we learnt how to use machine learning pipeline and implement classification algorithm known as Naïve Bayes. You also worked on the exercise activity and implement Support Vector Machine (SVM). \n",
    "\n",
    "This week we will learn how to use logistic regression algorithm in Apache Spark for prediction. In this activity, our task is to :\n",
    "- Use logistic regression to predict whether the client will subscribe (Yes/No) to a term deposit.\n",
    "- Compare the result with decision tree. \n",
    "- Use boosting technique to improve the prediction.\n",
    "\n",
    "The data can be downloaded from Moodle. \n"
   ]
  },
  {
   "cell_type": "markdown",
   "metadata": {
    "colab_type": "text",
    "id": "VEmyu3706Ic2"
   },
   "source": [
    "<font color='blue'>\n",
    "\n",
    "**What you need to remember**:\n",
    "    \n",
    "- Run your cells using SHIFT+ENTER (or \"Run cell\")\n",
    "- Run the current cell and insert a new cell below: ALT+ENTER\n",
    "- To see more commands, please click the \"menu\" option (e.g. \"Insert\", \"Cell\")\n",
    "- To see more keyboard shortcuts, click the above \"keyboard image\" button. Use \"Esc\" to enter command mode. Then, you can use a command. Some of the popular shortcuts are \n",
    "    - Basic navigation: enter, shift-enter, up/k, down/j\n",
    "    - Saving the notebook: s\n",
    "    - Cell creation: a (above), b (below)"
   ]
  },
  {
   "cell_type": "markdown",
   "metadata": {
    "colab_type": "text",
    "id": "g2_0dnYK6jce"
   },
   "source": [
    "# Logistic Regression\n",
    "\n",
    "*Logistic Regression* is a classification algorithm. It is used to predict a binary outcome (1 / 0, Yes / No, True / False) given a set of independent variables. To represent binary/categorical outcome, we use dummy variables. You can also think of logistic regression as a special case of linear regression when the outcome variable is categorical, where we are using log of odds as dependent variable. In simple words, it predicts the probability of occurrence of an event by fitting data to a logit function.\n"
   ]
  },
  {
   "cell_type": "markdown",
   "metadata": {
    "colab_type": "text",
    "id": "QLwWVh5J8LVM"
   },
   "source": [
    "## Include required libraries and load files"
   ]
  },
  {
   "cell_type": "code",
   "execution_count": 18,
   "metadata": {
    "colab": {},
    "colab_type": "code",
    "id": "zrg6bSjG8QJE"
   },
   "outputs": [
    {
     "name": "stdout",
     "output_type": "stream",
     "text": [
      "root\n",
      " |-- year: double (nullable = true)\n",
      " |-- salary: integer (nullable = true)\n",
      "\n",
      "+----+------+\n",
      "|year|salary|\n",
      "+----+------+\n",
      "| 1.1| 39343|\n",
      "| 1.3| 46205|\n",
      "| 1.5| 37731|\n",
      "| 2.0| 43525|\n",
      "| 2.2| 39891|\n",
      "| 2.9| 56642|\n",
      "| 3.0| 60150|\n",
      "| 3.2| 54445|\n",
      "| 3.2| 64445|\n",
      "| 3.7| 57189|\n",
      "| 3.9| 63218|\n",
      "| 4.0| 55794|\n",
      "| 4.0| 56957|\n",
      "| 4.1| 57081|\n",
      "| 4.5| 61111|\n",
      "| 4.9| 67938|\n",
      "| 5.1| 66029|\n",
      "| 5.3| 83088|\n",
      "| 5.9| 81363|\n",
      "| 6.0| 93940|\n",
      "+----+------+\n",
      "only showing top 20 rows\n",
      "\n"
     ]
    }
   ],
   "source": [
    "from pyspark import SQLContext, SparkConf, SparkContext\n",
    "from pyspark.ml.feature import VectorAssembler\n",
    "from pyspark.ml.regression import LinearRegression\n",
    "from pyspark.ml.evaluation import RegressionEvaluator\n",
    "from pyspark.sql import SparkSession\n",
    "\n",
    "\n",
    "sc = SparkContext.getOrCreate()\n",
    "\n",
    "if (sc is None):\n",
    "    sc = SparkContext(master=\"local[*]\", appName=\"Linear Regression\")\n",
    "spark = SparkSession(sparkContext=sc)\n",
    "    \n",
    "sqlcontext = SQLContext(sc)\n",
    "\n",
    "#load the file into variable. make sure you read the header and schema for the table\n",
    "data = sqlcontext.read.csv('salary_data.csv', header=True, inferSchema=True )\n",
    "#data = \n",
    "\n",
    "#display the schema for the data\n",
    "data.printSchema()\n",
    "data.show()\n"
   ]
  },
  {
   "cell_type": "markdown",
   "metadata": {
    "colab_type": "text",
    "id": "Me8uyqvk8asM"
   },
   "source": [
    " ### Preparing the data for training and testing"
   ]
  },
  {
   "cell_type": "code",
   "execution_count": 19,
   "metadata": {
    "colab": {},
    "colab_type": "code",
    "id": "N5x0ajt98evr"
   },
   "outputs": [
    {
     "name": "stdout",
     "output_type": "stream",
     "text": [
      "+--------+------+\n",
      "|features|label |\n",
      "+--------+------+\n",
      "|[1.1]   |39343 |\n",
      "|[1.3]   |46205 |\n",
      "|[1.5]   |37731 |\n",
      "|[2.0]   |43525 |\n",
      "|[2.9]   |56642 |\n",
      "|[3.0]   |60150 |\n",
      "|[3.9]   |63218 |\n",
      "|[4.0]   |55794 |\n",
      "|[4.0]   |56957 |\n",
      "|[4.1]   |57081 |\n",
      "|[4.5]   |61111 |\n",
      "|[5.1]   |66029 |\n",
      "|[5.3]   |83088 |\n",
      "|[6.8]   |91738 |\n",
      "|[7.9]   |101302|\n",
      "|[8.2]   |113812|\n",
      "|[8.7]   |109431|\n",
      "|[9.6]   |112635|\n",
      "|[10.3]  |122391|\n",
      "|[10.5]  |121872|\n",
      "+--------+------+\n",
      "\n"
     ]
    }
   ],
   "source": [
    "#Choose 2 columns from the data. Make the column for y axis as 'label'\n",
    "dataset = data.select(data.year,data.salary.alias('label'))\n",
    "\n",
    "#split the data into 70:30\n",
    "#70% : training and 30%: testing\n",
    "training,test = dataset.randomSplit([0.7,0.3],seed = 100)\n",
    "assembler = VectorAssembler().setInputCols(['year',]).setOutputCol('features')\n",
    "\n",
    "trainingSet = assembler.transform(training)\n",
    "trainingSet2 = trainingSet.select(\"features\",\"label\")\n",
    "trainingSet2.show(truncate=False)"
   ]
  },
  {
   "cell_type": "code",
   "execution_count": 20,
   "metadata": {},
   "outputs": [
    {
     "name": "stdout",
     "output_type": "stream",
     "text": [
      "+--------+------+------------------+-------------------+\n",
      "|features|label |prediction        |err                |\n",
      "+--------+------+------------------+-------------------+\n",
      "|[2.2]   |39891 |46633.40121986039 |6742.401219860389  |\n",
      "|[3.2]   |54445 |55980.79785252584 |1535.7978525258368 |\n",
      "|[3.2]   |64445 |55980.79785252584 |-8464.202147474163 |\n",
      "|[3.7]   |57189 |60654.49616885856 |3465.496168858561  |\n",
      "|[4.9]   |67938 |71871.37212805709 |3933.37212805709   |\n",
      "|[5.9]   |81363 |81218.76876072254 |-144.231239277462  |\n",
      "|[6.0]   |93940 |82153.50842398909 |-11786.491576010914|\n",
      "|[7.1]   |98273 |92435.64471992107 |-5837.355280078933 |\n",
      "|[9.0]   |105582|110195.69832198542|4613.6983219854155 |\n",
      "|[9.5]   |116969|114869.39663831814|-2099.6033616818604|\n",
      "+--------+------+------------------+-------------------+\n",
      "\n"
     ]
    }
   ],
   "source": [
    "#Define Linear Regression training step with 10 iterations\n",
    "lr = LinearRegression(maxIter = 10)\n",
    "lr_Model = lr.fit(trainingSet2)\n",
    "\n",
    "\n",
    "#Test the model using testing dataset\n",
    "testSet1 = assembler.transform(test)\n",
    "testSet2 = testSet1.select(\"features\",\"label\")\n",
    "testSet3 = lr_Model.transform(testSet2)\n",
    "\n",
    "#testSet3.show(truncate=False)\n",
    "#Display the result with error value\n",
    "result1 = testSet3.select(\"features\",\"label\",\"prediction\",(testSet3.prediction - testSet3.label).alias(\"err\"))\n",
    "\n",
    "result1.show(truncate=False)\n",
    "#result1.withColumn(\"error\",abs(result1.err)).show(truncate=False)\n"
   ]
  },
  {
   "cell_type": "code",
   "execution_count": 36,
   "metadata": {},
   "outputs": [
    {
     "name": "stdout",
     "output_type": "stream",
     "text": [
      "+--------+------------------+\n",
      "|features|prediction        |\n",
      "+--------+------------------+\n",
      "|[12.0]  |138237.88821998175|\n",
      "|[15.0]  |166280.07811797806|\n",
      "|[20.0]  |213017.06128130533|\n",
      "+--------+------------------+\n",
      "\n"
     ]
    }
   ],
   "source": [
    "#Load forecast dataset\n",
    "forecast = sqlcontext.read.csv('salary_forecast.csv', header=True, inferSchema=True )\n",
    "\n",
    "forecast_data = forecast.select(forecast.year,forecast.salary.alias('label'))\n",
    "\n",
    "#Predict the forecast unlabeled value\n",
    "forecast_result1 = assembler.transform(forecast_data)\n",
    "forecast_result2 = forecast_result1.select(\"features\", \"label\")\n",
    "forecast_result3 = lr_Model.transform(forecast_result2)\n",
    "\n",
    "result2 = forecast_result3.select(\"features\",\"prediction\")\n",
    "\n",
    "result2.show(truncate=False)"
   ]
  },
  {
   "cell_type": "code",
   "execution_count": 40,
   "metadata": {},
   "outputs": [
    {
     "data": {
      "image/png": "[encoded data removed]",
      "text/plain": [
       "<Figure size 432x288 with 1 Axes>"
      ]
     },
     "metadata": {
      "needs_background": "light"
     },
     "output_type": "display_data"
    }
   ],
   "source": [
    "import matplotlib.pyplot as plt\n",
    "import numpy as np\n",
    "%matplotlib inline\n",
    "\n",
    "xtrain = [row['year'] for row in training.collect()]\n",
    "ytrain = [row['label'] for row in training.collect()]\n",
    "\n",
    "xtest = [row['year'] for row in test.collect()]\n",
    "ytest = [row['label'] for row in test.collect()]\n",
    "\n",
    "plt.scatter(xtrain, ytrain, c = 'C0', label = 'Training')\n",
    "plt.scatter(xtest, ytest, c = 'C1', label = 'Testing')\n",
    "plt.xlabel('Year')\n",
    "plt.ylabel('Salary')\n",
    "plt.show()"
   ]
  },
  {
   "cell_type": "markdown",
   "metadata": {
    "colab_type": "text",
    "id": "uKSg4X0P_tBR"
   },
   "source": [
    "### Congratulations on finishing you activity for this week."
   ]
  }
 ],
 "metadata": {
  "colab": {
   "collapsed_sections": [],
   "name": "FIT5202 - Logistic Regression.ipynb",
   "provenance": [],
   "version": "0.3.2"
  },
  "kernelspec": {
   "display_name": "Python 3",
   "language": "python",
   "name": "python3"
  },
  "language_info": {
   "codemirror_mode": {
    "name": "ipython",
    "version": 3
   },
   "file_extension": ".py",
   "mimetype": "text/x-python",
   "name": "python",
   "nbconvert_exporter": "python",
   "pygments_lexer": "ipython3",
   "version": "3.6.9"
  }
 },
 "nbformat": 4,
 "nbformat_minor": 1
}
