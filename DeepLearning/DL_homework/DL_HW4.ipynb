{
  "nbformat": 4,
  "nbformat_minor": 0,
  "metadata": {
    "colab": {
      "name": "DL_HW4.ipynb",
      "provenance": []
    },
    "kernelspec": {
      "name": "python3",
      "display_name": "Python 3"
    }
  },
  "cells": [
    {
      "cell_type": "markdown",
      "metadata": {
        "id": "WSEar6mM6DsW",
        "colab_type": "text"
      },
      "source": [
        "#201533661 이승수's Deep Learning homework#4"
      ]
    },
    {
      "cell_type": "markdown",
      "metadata": {
        "id": "VEZa9hrv6Haj",
        "colab_type": "text"
      },
      "source": [
        "**Mount notebook to google drive**"
      ]
    },
    {
      "cell_type": "code",
      "metadata": {
        "id": "70JPCSsJ5OnW",
        "colab_type": "code",
        "colab": {
          "base_uri": "https://localhost:8080/",
          "height": 34
        },
        "outputId": "c4f5e427-ac10-4761-b711-9630715501a7"
      },
      "source": [
        "from google.colab import drive\n",
        "drive.mount('/content/gdrive',force_remount=True)"
      ],
      "execution_count": null,
      "outputs": [
        {
          "output_type": "stream",
          "text": [
            "Mounted at /content/gdrive\n"
          ],
          "name": "stdout"
        }
      ]
    },
    {
      "cell_type": "markdown",
      "metadata": {
        "id": "-kLV1gsH6wVa",
        "colab_type": "text"
      },
      "source": [
        "**import python Libraries**"
      ]
    },
    {
      "cell_type": "code",
      "metadata": {
        "id": "Q_Cg2iK05s5w",
        "colab_type": "code",
        "colab": {}
      },
      "source": [
        "import numpy as np\n",
        "import torch\n",
        "import torch.nn as nn\n",
        "import torch.optim as optim\n",
        "import torch.nn.init as init\n",
        "import matplotlib.pyplot as plt#non used\n",
        "import math\n",
        "\n",
        "from torchvision import models\n",
        "from torchvision import datasets,transforms\n",
        "import torch.utils.data"
      ],
      "execution_count": null,
      "outputs": []
    },
    {
      "cell_type": "markdown",
      "metadata": {
        "id": "kTY86XaoPX6J",
        "colab_type": "text"
      },
      "source": [
        "**Set Variables & Parameters**\n",
        "\n",
        "> **epoch: 10**<br>\n",
        "> **optimizer: ADAM**<br>\n",
        "> **learning rate: 0.01**<br>\n",
        "\n",
        "\n"
      ]
    },
    {
      "cell_type": "code",
      "metadata": {
        "id": "H-0jRvRTPWq_",
        "colab_type": "code",
        "colab": {}
      },
      "source": [
        "bn=16 #batch size\n",
        "learning_rate=0.01\n",
        "epochs=10\n",
        "use_cuda=True\n",
        "device=torch.device(\"cpu\")#(\"cuda\" if use_cuda else \"cpu\")"
      ],
      "execution_count": null,
      "outputs": []
    },
    {
      "cell_type": "markdown",
      "metadata": {
        "id": "0qybzDf5V8vg",
        "colab_type": "text"
      },
      "source": [
        "**Load MNIST dataset**"
      ]
    },
    {
      "cell_type": "code",
      "metadata": {
        "id": "xYG74ljKV1yr",
        "colab_type": "code",
        "colab": {}
      },
      "source": [
        "kwargs={'num_workers':1,\n",
        "        'pin_memory':True}\n",
        "\n",
        "train_loader=torch.utils.data.DataLoader(\n",
        "    datasets.MNIST('./data',train=True,download=True,\n",
        "                   transform=transforms.Compose([transforms.ToTensor(),\n",
        "                                                 transforms.Normalize((0.1307,),(0.3081,))\n",
        "                                                 ])\n",
        "                   ),batch_size=bn,shuffle=True,**kwargs)\n",
        "test_loader=torch.utils.data.DataLoader(\n",
        "    datasets.MNIST('./data',train=False,transform=transforms.Compose([transforms.ToTensor(),\n",
        "                                                                      transforms.Normalize((0.1307,),(0.3081,))\n",
        "                                                                      ])\n",
        "    ),batch_size=bn,shuffle=True,**kwargs)"
      ],
      "execution_count": null,
      "outputs": []
    },
    {
      "cell_type": "markdown",
      "metadata": {
        "id": "vkmRjAkC66NR",
        "colab_type": "text"
      },
      "source": [
        "**MNIST Classification using ResNet18 Model**\n",
        "\n",
        "\n",
        "> Transfer Learning method using models.resnet18()\n",
        "\n"
      ]
    },
    {
      "cell_type": "code",
      "metadata": {
        "id": "7uOR1fNt2yG2",
        "colab_type": "code",
        "colab": {
          "base_uri": "https://localhost:8080/",
          "height": 1000
        },
        "outputId": "aeee797a-806b-4a72-fea7-b6b8c903d679"
      },
      "source": [
        "#store training dataset into variable.\n",
        "for inputs,labels in train_loader:\n",
        "  inputs=inputs.to(device)\n",
        "  labels=labels.to(device)\n",
        "\n",
        "\n",
        "def main():\n",
        "  #transfer learning\n",
        "  model=models.resnet18(pretrained=True)\n",
        "\n",
        "  optimizer=optim.Adam(model.parameters(), lr=learning_rate)\n",
        "\n",
        "  #change kernel\n",
        "  #match x-axis to 1 dimension at the front of the neural net\n",
        "  model.conv1=torch.nn.Conv2d(1, 64, kernel_size=(7, 7), stride=(2, 2), padding=(3, 3), bias=False)\n",
        "  #make out_features from 1000 to 1 to match model's result number\n",
        "  model.fc=torch.nn.Linear(in_features=512, out_features=1, bias=True)\n",
        "\n",
        "  #training phase\n",
        "  for epoch in range(epochs):\n",
        "    model.train(True)\n",
        "  #print(model(inputs))\n",
        "  \n",
        "  for epoch in range(epochs):\n",
        "    totalLoss=0.0\n",
        "    mnist=torch.LongTensor(labels)\n",
        "    for i in range(len(labels)):\n",
        "      optimizer.zero_grad()\n",
        "      output=model(inputs)[i]\n",
        "      #mnist=torch.LongTensor(labels[i])\n",
        "\n",
        "      loss=torch.nn.CrossEntropyLoss(output,mnist[i])\n",
        "\n",
        "      totalLoss=totalLoss+output\n",
        "      optimizer.step()\n",
        "\n",
        "      print(\"Train Epoch:{}, index:{} loss:{}, avg loss:{}, accuracy:{}\".format(epoch,i,loss,float(totalLoss/i),float(100-abs(output))))\n",
        "\n",
        "\n",
        "if __name__==\"__main__\":\n",
        "  main()"
      ],
      "execution_count": null,
      "outputs": [
        {
          "output_type": "stream",
          "text": [
            "/usr/local/lib/python3.6/dist-packages/torch/nn/_reduction.py:43: UserWarning: size_average and reduce args will be deprecated, please use reduction='mean' instead.\n",
            "  warnings.warn(warning.format(ret))\n"
          ],
          "name": "stderr"
        },
        {
          "output_type": "stream",
          "text": [
            "Train Epoch:0, index:0 loss:CrossEntropyLoss(), avg loss:inf, accuracy:99.6321029663086\n",
            "Train Epoch:0, index:1 loss:CrossEntropyLoss(), avg loss:-0.14054393768310547, accuracy:99.49156188964844\n",
            "Train Epoch:0, index:2 loss:CrossEntropyLoss(), avg loss:0.6328698396682739, accuracy:98.59371948242188\n",
            "Train Epoch:0, index:3 loss:CrossEntropyLoss(), avg loss:0.6272240877151489, accuracy:99.38406372070312\n",
            "Train Epoch:0, index:4 loss:CrossEntropyLoss(), avg loss:0.5598441362380981, accuracy:99.64229583740234\n",
            "Train Epoch:0, index:5 loss:CrossEntropyLoss(), avg loss:0.551803708076477, accuracy:99.48035430908203\n",
            "Train Epoch:0, index:6 loss:CrossEntropyLoss(), avg loss:0.5525743961334229, accuracy:99.44357299804688\n",
            "Train Epoch:0, index:7 loss:CrossEntropyLoss(), avg loss:0.5066399574279785, accuracy:99.76896667480469\n",
            "Train Epoch:0, index:8 loss:CrossEntropyLoss(), avg loss:0.33740177750587463, accuracy:99.1527328491211\n"
          ],
          "name": "stdout"
        },
        {
          "output_type": "stream",
          "text": [
            "/usr/local/lib/python3.6/dist-packages/torch/nn/_reduction.py:43: UserWarning: size_average and reduce args will be deprecated, please use reduction='sum' instead.\n",
            "  warnings.warn(warning.format(ret))\n"
          ],
          "name": "stderr"
        },
        {
          "output_type": "stream",
          "text": [
            "Train Epoch:0, index:9 loss:CrossEntropyLoss(), avg loss:0.32718193531036377, accuracy:99.75457763671875\n",
            "Train Epoch:0, index:10 loss:CrossEntropyLoss(), avg loss:0.26533132791519165, accuracy:99.70867919921875\n",
            "Train Epoch:0, index:11 loss:CrossEntropyLoss(), avg loss:0.3105902373790741, accuracy:99.23682403564453\n",
            "Train Epoch:0, index:12 loss:CrossEntropyLoss(), avg loss:0.2826688587665558, accuracy:99.97553253173828\n",
            "Train Epoch:0, index:13 loss:CrossEntropyLoss(), avg loss:0.18702444434165955, accuracy:99.03929138183594\n",
            "Train Epoch:0, index:14 loss:CrossEntropyLoss(), avg loss:0.09327774494886398, accuracy:98.87457275390625\n",
            "Train Epoch:0, index:15 loss:CrossEntropyLoss(), avg loss:0.014969698153436184, accuracy:98.91865539550781\n",
            "Train Epoch:1, index:0 loss:CrossEntropyLoss(), avg loss:inf, accuracy:99.6321029663086\n",
            "Train Epoch:1, index:1 loss:CrossEntropyLoss(), avg loss:-0.14054393768310547, accuracy:99.49156188964844\n",
            "Train Epoch:1, index:2 loss:CrossEntropyLoss(), avg loss:0.6328698396682739, accuracy:98.59371948242188\n",
            "Train Epoch:1, index:3 loss:CrossEntropyLoss(), avg loss:0.6272240877151489, accuracy:99.38406372070312\n",
            "Train Epoch:1, index:4 loss:CrossEntropyLoss(), avg loss:0.5598441362380981, accuracy:99.64229583740234\n",
            "Train Epoch:1, index:5 loss:CrossEntropyLoss(), avg loss:0.551803708076477, accuracy:99.48035430908203\n",
            "Train Epoch:1, index:6 loss:CrossEntropyLoss(), avg loss:0.5525743961334229, accuracy:99.44357299804688\n",
            "Train Epoch:1, index:7 loss:CrossEntropyLoss(), avg loss:0.5066399574279785, accuracy:99.76896667480469\n",
            "Train Epoch:1, index:8 loss:CrossEntropyLoss(), avg loss:0.33740177750587463, accuracy:99.1527328491211\n",
            "Train Epoch:1, index:9 loss:CrossEntropyLoss(), avg loss:0.32718193531036377, accuracy:99.75457763671875\n",
            "Train Epoch:1, index:10 loss:CrossEntropyLoss(), avg loss:0.26533132791519165, accuracy:99.70867919921875\n",
            "Train Epoch:1, index:11 loss:CrossEntropyLoss(), avg loss:0.3105902373790741, accuracy:99.23682403564453\n",
            "Train Epoch:1, index:12 loss:CrossEntropyLoss(), avg loss:0.2826688587665558, accuracy:99.97553253173828\n",
            "Train Epoch:1, index:13 loss:CrossEntropyLoss(), avg loss:0.18702444434165955, accuracy:99.03929138183594\n",
            "Train Epoch:1, index:14 loss:CrossEntropyLoss(), avg loss:0.09327774494886398, accuracy:98.87457275390625\n",
            "Train Epoch:1, index:15 loss:CrossEntropyLoss(), avg loss:0.014969698153436184, accuracy:98.91865539550781\n",
            "Train Epoch:2, index:0 loss:CrossEntropyLoss(), avg loss:inf, accuracy:99.6321029663086\n",
            "Train Epoch:2, index:1 loss:CrossEntropyLoss(), avg loss:-0.14054393768310547, accuracy:99.49156188964844\n",
            "Train Epoch:2, index:2 loss:CrossEntropyLoss(), avg loss:0.6328698396682739, accuracy:98.59371948242188\n",
            "Train Epoch:2, index:3 loss:CrossEntropyLoss(), avg loss:0.6272240877151489, accuracy:99.38406372070312\n",
            "Train Epoch:2, index:4 loss:CrossEntropyLoss(), avg loss:0.5598441362380981, accuracy:99.64229583740234\n",
            "Train Epoch:2, index:5 loss:CrossEntropyLoss(), avg loss:0.551803708076477, accuracy:99.48035430908203\n",
            "Train Epoch:2, index:6 loss:CrossEntropyLoss(), avg loss:0.5525743961334229, accuracy:99.44357299804688\n",
            "Train Epoch:2, index:7 loss:CrossEntropyLoss(), avg loss:0.5066399574279785, accuracy:99.76896667480469\n",
            "Train Epoch:2, index:8 loss:CrossEntropyLoss(), avg loss:0.33740177750587463, accuracy:99.1527328491211\n",
            "Train Epoch:2, index:9 loss:CrossEntropyLoss(), avg loss:0.32718193531036377, accuracy:99.75457763671875\n",
            "Train Epoch:2, index:10 loss:CrossEntropyLoss(), avg loss:0.26533132791519165, accuracy:99.70867919921875\n",
            "Train Epoch:2, index:11 loss:CrossEntropyLoss(), avg loss:0.3105902373790741, accuracy:99.23682403564453\n",
            "Train Epoch:2, index:12 loss:CrossEntropyLoss(), avg loss:0.2826688587665558, accuracy:99.97553253173828\n",
            "Train Epoch:2, index:13 loss:CrossEntropyLoss(), avg loss:0.18702444434165955, accuracy:99.03929138183594\n",
            "Train Epoch:2, index:14 loss:CrossEntropyLoss(), avg loss:0.09327774494886398, accuracy:98.87457275390625\n",
            "Train Epoch:2, index:15 loss:CrossEntropyLoss(), avg loss:0.014969698153436184, accuracy:98.91865539550781\n",
            "Train Epoch:3, index:0 loss:CrossEntropyLoss(), avg loss:inf, accuracy:99.6321029663086\n",
            "Train Epoch:3, index:1 loss:CrossEntropyLoss(), avg loss:-0.14054393768310547, accuracy:99.49156188964844\n",
            "Train Epoch:3, index:2 loss:CrossEntropyLoss(), avg loss:0.6328698396682739, accuracy:98.59371948242188\n",
            "Train Epoch:3, index:3 loss:CrossEntropyLoss(), avg loss:0.6272240877151489, accuracy:99.38406372070312\n",
            "Train Epoch:3, index:4 loss:CrossEntropyLoss(), avg loss:0.5598441362380981, accuracy:99.64229583740234\n",
            "Train Epoch:3, index:5 loss:CrossEntropyLoss(), avg loss:0.551803708076477, accuracy:99.48035430908203\n",
            "Train Epoch:3, index:6 loss:CrossEntropyLoss(), avg loss:0.5525743961334229, accuracy:99.44357299804688\n",
            "Train Epoch:3, index:7 loss:CrossEntropyLoss(), avg loss:0.5066399574279785, accuracy:99.76896667480469\n",
            "Train Epoch:3, index:8 loss:CrossEntropyLoss(), avg loss:0.33740177750587463, accuracy:99.1527328491211\n",
            "Train Epoch:3, index:9 loss:CrossEntropyLoss(), avg loss:0.32718193531036377, accuracy:99.75457763671875\n",
            "Train Epoch:3, index:10 loss:CrossEntropyLoss(), avg loss:0.26533132791519165, accuracy:99.70867919921875\n",
            "Train Epoch:3, index:11 loss:CrossEntropyLoss(), avg loss:0.3105902373790741, accuracy:99.23682403564453\n",
            "Train Epoch:3, index:12 loss:CrossEntropyLoss(), avg loss:0.2826688587665558, accuracy:99.97553253173828\n",
            "Train Epoch:3, index:13 loss:CrossEntropyLoss(), avg loss:0.18702444434165955, accuracy:99.03929138183594\n",
            "Train Epoch:3, index:14 loss:CrossEntropyLoss(), avg loss:0.09327774494886398, accuracy:98.87457275390625\n",
            "Train Epoch:3, index:15 loss:CrossEntropyLoss(), avg loss:0.014969698153436184, accuracy:98.91865539550781\n",
            "Train Epoch:4, index:0 loss:CrossEntropyLoss(), avg loss:inf, accuracy:99.6321029663086\n",
            "Train Epoch:4, index:1 loss:CrossEntropyLoss(), avg loss:-0.14054393768310547, accuracy:99.49156188964844\n",
            "Train Epoch:4, index:2 loss:CrossEntropyLoss(), avg loss:0.6328698396682739, accuracy:98.59371948242188\n",
            "Train Epoch:4, index:3 loss:CrossEntropyLoss(), avg loss:0.6272240877151489, accuracy:99.38406372070312\n",
            "Train Epoch:4, index:4 loss:CrossEntropyLoss(), avg loss:0.5598441362380981, accuracy:99.64229583740234\n",
            "Train Epoch:4, index:5 loss:CrossEntropyLoss(), avg loss:0.551803708076477, accuracy:99.48035430908203\n",
            "Train Epoch:4, index:6 loss:CrossEntropyLoss(), avg loss:0.5525743961334229, accuracy:99.44357299804688\n",
            "Train Epoch:4, index:7 loss:CrossEntropyLoss(), avg loss:0.5066399574279785, accuracy:99.76896667480469\n",
            "Train Epoch:4, index:8 loss:CrossEntropyLoss(), avg loss:0.33740177750587463, accuracy:99.1527328491211\n",
            "Train Epoch:4, index:9 loss:CrossEntropyLoss(), avg loss:0.32718193531036377, accuracy:99.75457763671875\n",
            "Train Epoch:4, index:10 loss:CrossEntropyLoss(), avg loss:0.26533132791519165, accuracy:99.70867919921875\n",
            "Train Epoch:4, index:11 loss:CrossEntropyLoss(), avg loss:0.3105902373790741, accuracy:99.23682403564453\n",
            "Train Epoch:4, index:12 loss:CrossEntropyLoss(), avg loss:0.2826688587665558, accuracy:99.97553253173828\n",
            "Train Epoch:4, index:13 loss:CrossEntropyLoss(), avg loss:0.18702444434165955, accuracy:99.03929138183594\n",
            "Train Epoch:4, index:14 loss:CrossEntropyLoss(), avg loss:0.09327774494886398, accuracy:98.87457275390625\n",
            "Train Epoch:4, index:15 loss:CrossEntropyLoss(), avg loss:0.014969698153436184, accuracy:98.91865539550781\n",
            "Train Epoch:5, index:0 loss:CrossEntropyLoss(), avg loss:inf, accuracy:99.6321029663086\n",
            "Train Epoch:5, index:1 loss:CrossEntropyLoss(), avg loss:-0.14054393768310547, accuracy:99.49156188964844\n",
            "Train Epoch:5, index:2 loss:CrossEntropyLoss(), avg loss:0.6328698396682739, accuracy:98.59371948242188\n",
            "Train Epoch:5, index:3 loss:CrossEntropyLoss(), avg loss:0.6272240877151489, accuracy:99.38406372070312\n",
            "Train Epoch:5, index:4 loss:CrossEntropyLoss(), avg loss:0.5598441362380981, accuracy:99.64229583740234\n",
            "Train Epoch:5, index:5 loss:CrossEntropyLoss(), avg loss:0.551803708076477, accuracy:99.48035430908203\n",
            "Train Epoch:5, index:6 loss:CrossEntropyLoss(), avg loss:0.5525743961334229, accuracy:99.44357299804688\n",
            "Train Epoch:5, index:7 loss:CrossEntropyLoss(), avg loss:0.5066399574279785, accuracy:99.76896667480469\n",
            "Train Epoch:5, index:8 loss:CrossEntropyLoss(), avg loss:0.33740177750587463, accuracy:99.1527328491211\n",
            "Train Epoch:5, index:9 loss:CrossEntropyLoss(), avg loss:0.32718193531036377, accuracy:99.75457763671875\n",
            "Train Epoch:5, index:10 loss:CrossEntropyLoss(), avg loss:0.26533132791519165, accuracy:99.70867919921875\n",
            "Train Epoch:5, index:11 loss:CrossEntropyLoss(), avg loss:0.3105902373790741, accuracy:99.23682403564453\n",
            "Train Epoch:5, index:12 loss:CrossEntropyLoss(), avg loss:0.2826688587665558, accuracy:99.97553253173828\n",
            "Train Epoch:5, index:13 loss:CrossEntropyLoss(), avg loss:0.18702444434165955, accuracy:99.03929138183594\n",
            "Train Epoch:5, index:14 loss:CrossEntropyLoss(), avg loss:0.09327774494886398, accuracy:98.87457275390625\n",
            "Train Epoch:5, index:15 loss:CrossEntropyLoss(), avg loss:0.014969698153436184, accuracy:98.91865539550781\n",
            "Train Epoch:6, index:0 loss:CrossEntropyLoss(), avg loss:inf, accuracy:99.6321029663086\n",
            "Train Epoch:6, index:1 loss:CrossEntropyLoss(), avg loss:-0.14054393768310547, accuracy:99.49156188964844\n",
            "Train Epoch:6, index:2 loss:CrossEntropyLoss(), avg loss:0.6328698396682739, accuracy:98.59371948242188\n",
            "Train Epoch:6, index:3 loss:CrossEntropyLoss(), avg loss:0.6272240877151489, accuracy:99.38406372070312\n",
            "Train Epoch:6, index:4 loss:CrossEntropyLoss(), avg loss:0.5598441362380981, accuracy:99.64229583740234\n",
            "Train Epoch:6, index:5 loss:CrossEntropyLoss(), avg loss:0.551803708076477, accuracy:99.48035430908203\n",
            "Train Epoch:6, index:6 loss:CrossEntropyLoss(), avg loss:0.5525743961334229, accuracy:99.44357299804688\n",
            "Train Epoch:6, index:7 loss:CrossEntropyLoss(), avg loss:0.5066399574279785, accuracy:99.76896667480469\n",
            "Train Epoch:6, index:8 loss:CrossEntropyLoss(), avg loss:0.33740177750587463, accuracy:99.1527328491211\n",
            "Train Epoch:6, index:9 loss:CrossEntropyLoss(), avg loss:0.32718193531036377, accuracy:99.75457763671875\n",
            "Train Epoch:6, index:10 loss:CrossEntropyLoss(), avg loss:0.26533132791519165, accuracy:99.70867919921875\n",
            "Train Epoch:6, index:11 loss:CrossEntropyLoss(), avg loss:0.3105902373790741, accuracy:99.23682403564453\n",
            "Train Epoch:6, index:12 loss:CrossEntropyLoss(), avg loss:0.2826688587665558, accuracy:99.97553253173828\n",
            "Train Epoch:6, index:13 loss:CrossEntropyLoss(), avg loss:0.18702444434165955, accuracy:99.03929138183594\n",
            "Train Epoch:6, index:14 loss:CrossEntropyLoss(), avg loss:0.09327774494886398, accuracy:98.87457275390625\n",
            "Train Epoch:6, index:15 loss:CrossEntropyLoss(), avg loss:0.014969698153436184, accuracy:98.91865539550781\n",
            "Train Epoch:7, index:0 loss:CrossEntropyLoss(), avg loss:inf, accuracy:99.6321029663086\n",
            "Train Epoch:7, index:1 loss:CrossEntropyLoss(), avg loss:-0.14054393768310547, accuracy:99.49156188964844\n",
            "Train Epoch:7, index:2 loss:CrossEntropyLoss(), avg loss:0.6328698396682739, accuracy:98.59371948242188\n",
            "Train Epoch:7, index:3 loss:CrossEntropyLoss(), avg loss:0.6272240877151489, accuracy:99.38406372070312\n",
            "Train Epoch:7, index:4 loss:CrossEntropyLoss(), avg loss:0.5598441362380981, accuracy:99.64229583740234\n",
            "Train Epoch:7, index:5 loss:CrossEntropyLoss(), avg loss:0.551803708076477, accuracy:99.48035430908203\n",
            "Train Epoch:7, index:6 loss:CrossEntropyLoss(), avg loss:0.5525743961334229, accuracy:99.44357299804688\n",
            "Train Epoch:7, index:7 loss:CrossEntropyLoss(), avg loss:0.5066399574279785, accuracy:99.76896667480469\n",
            "Train Epoch:7, index:8 loss:CrossEntropyLoss(), avg loss:0.33740177750587463, accuracy:99.1527328491211\n",
            "Train Epoch:7, index:9 loss:CrossEntropyLoss(), avg loss:0.32718193531036377, accuracy:99.75457763671875\n",
            "Train Epoch:7, index:10 loss:CrossEntropyLoss(), avg loss:0.26533132791519165, accuracy:99.70867919921875\n",
            "Train Epoch:7, index:11 loss:CrossEntropyLoss(), avg loss:0.3105902373790741, accuracy:99.23682403564453\n",
            "Train Epoch:7, index:12 loss:CrossEntropyLoss(), avg loss:0.2826688587665558, accuracy:99.97553253173828\n",
            "Train Epoch:7, index:13 loss:CrossEntropyLoss(), avg loss:0.18702444434165955, accuracy:99.03929138183594\n",
            "Train Epoch:7, index:14 loss:CrossEntropyLoss(), avg loss:0.09327774494886398, accuracy:98.87457275390625\n",
            "Train Epoch:7, index:15 loss:CrossEntropyLoss(), avg loss:0.014969698153436184, accuracy:98.91865539550781\n",
            "Train Epoch:8, index:0 loss:CrossEntropyLoss(), avg loss:inf, accuracy:99.6321029663086\n",
            "Train Epoch:8, index:1 loss:CrossEntropyLoss(), avg loss:-0.14054393768310547, accuracy:99.49156188964844\n",
            "Train Epoch:8, index:2 loss:CrossEntropyLoss(), avg loss:0.6328698396682739, accuracy:98.59371948242188\n",
            "Train Epoch:8, index:3 loss:CrossEntropyLoss(), avg loss:0.6272240877151489, accuracy:99.38406372070312\n",
            "Train Epoch:8, index:4 loss:CrossEntropyLoss(), avg loss:0.5598441362380981, accuracy:99.64229583740234\n",
            "Train Epoch:8, index:5 loss:CrossEntropyLoss(), avg loss:0.551803708076477, accuracy:99.48035430908203\n",
            "Train Epoch:8, index:6 loss:CrossEntropyLoss(), avg loss:0.5525743961334229, accuracy:99.44357299804688\n",
            "Train Epoch:8, index:7 loss:CrossEntropyLoss(), avg loss:0.5066399574279785, accuracy:99.76896667480469\n",
            "Train Epoch:8, index:8 loss:CrossEntropyLoss(), avg loss:0.33740177750587463, accuracy:99.1527328491211\n",
            "Train Epoch:8, index:9 loss:CrossEntropyLoss(), avg loss:0.32718193531036377, accuracy:99.75457763671875\n",
            "Train Epoch:8, index:10 loss:CrossEntropyLoss(), avg loss:0.26533132791519165, accuracy:99.70867919921875\n",
            "Train Epoch:8, index:11 loss:CrossEntropyLoss(), avg loss:0.3105902373790741, accuracy:99.23682403564453\n",
            "Train Epoch:8, index:12 loss:CrossEntropyLoss(), avg loss:0.2826688587665558, accuracy:99.97553253173828\n",
            "Train Epoch:8, index:13 loss:CrossEntropyLoss(), avg loss:0.18702444434165955, accuracy:99.03929138183594\n",
            "Train Epoch:8, index:14 loss:CrossEntropyLoss(), avg loss:0.09327774494886398, accuracy:98.87457275390625\n",
            "Train Epoch:8, index:15 loss:CrossEntropyLoss(), avg loss:0.014969698153436184, accuracy:98.91865539550781\n",
            "Train Epoch:9, index:0 loss:CrossEntropyLoss(), avg loss:inf, accuracy:99.6321029663086\n",
            "Train Epoch:9, index:1 loss:CrossEntropyLoss(), avg loss:-0.14054393768310547, accuracy:99.49156188964844\n",
            "Train Epoch:9, index:2 loss:CrossEntropyLoss(), avg loss:0.6328698396682739, accuracy:98.59371948242188\n",
            "Train Epoch:9, index:3 loss:CrossEntropyLoss(), avg loss:0.6272240877151489, accuracy:99.38406372070312\n",
            "Train Epoch:9, index:4 loss:CrossEntropyLoss(), avg loss:0.5598441362380981, accuracy:99.64229583740234\n",
            "Train Epoch:9, index:5 loss:CrossEntropyLoss(), avg loss:0.551803708076477, accuracy:99.48035430908203\n",
            "Train Epoch:9, index:6 loss:CrossEntropyLoss(), avg loss:0.5525743961334229, accuracy:99.44357299804688\n",
            "Train Epoch:9, index:7 loss:CrossEntropyLoss(), avg loss:0.5066399574279785, accuracy:99.76896667480469\n",
            "Train Epoch:9, index:8 loss:CrossEntropyLoss(), avg loss:0.33740177750587463, accuracy:99.1527328491211\n",
            "Train Epoch:9, index:9 loss:CrossEntropyLoss(), avg loss:0.32718193531036377, accuracy:99.75457763671875\n",
            "Train Epoch:9, index:10 loss:CrossEntropyLoss(), avg loss:0.26533132791519165, accuracy:99.70867919921875\n",
            "Train Epoch:9, index:11 loss:CrossEntropyLoss(), avg loss:0.3105902373790741, accuracy:99.23682403564453\n",
            "Train Epoch:9, index:12 loss:CrossEntropyLoss(), avg loss:0.2826688587665558, accuracy:99.97553253173828\n",
            "Train Epoch:9, index:13 loss:CrossEntropyLoss(), avg loss:0.18702444434165955, accuracy:99.03929138183594\n",
            "Train Epoch:9, index:14 loss:CrossEntropyLoss(), avg loss:0.09327774494886398, accuracy:98.87457275390625\n",
            "Train Epoch:9, index:15 loss:CrossEntropyLoss(), avg loss:0.014969698153436184, accuracy:98.91865539550781\n"
          ],
          "name": "stdout"
        }
      ]
    }
  ]
}